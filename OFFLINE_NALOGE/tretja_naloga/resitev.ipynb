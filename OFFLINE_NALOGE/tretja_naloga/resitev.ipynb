{
 "cells": [
  {
   "cell_type": "markdown",
   "source": [
    "### Pri tej nalogi je bolj zaplet\n",
    "\n",
    "Bom probal čim bolje obrazložit kaj sem čaral in kako deluje.\n",
    "\n",
    "\n",
    "\n",
    "#### Problemi, ki jih je treba rešit:\n",
    "\n",
    "- Pregledati *vse* možne kombinacije barv, katera najhitreje pobarva matriko, na žalost, vzame preveč časa (10x10 matriko mi nikoli niti ni zaključilo, 6x6 pa lahko išče tudi dalj kot pol ure).\n",
    "- Treba je zmanjšati število možnih potez v vsakem koraku, ampak paziti, da še vedno najde najboljšo rešitev.\n",
    "- Treba je ugotoviti, kako sploh določiti *smiselne* poteze, da lahko ignoriramo tiste, ki se ne splačajo.\n",
    "- Treba je Benotu sporočiti še kakšen način, da pohitri ta program, da mu program ne melje 15x15 matrike v nedogled.\n",
    "\n",
    "\n",
    "Kako sem se jaz tega lotil bom opisal, ob kodi, kjer je rešitev. Kodo sem pisal v Angleščini ampak upam, da bo jasno."
   ],
   "metadata": {
    "collapsed": false
   }
  },
  {
   "cell_type": "markdown",
   "source": [
    "#### Node\n",
    "\n",
    "Imam razred **Node**, ki drži atribute:\n",
    " - **value**, ki predstavlja barvo elementa\n",
    " - **x** in **y**, ki sta pa pozicija elementa v matriki"
   ],
   "metadata": {
    "collapsed": false
   }
  },
  {
   "cell_type": "code",
   "execution_count": 27,
   "outputs": [],
   "source": [
    "class Node:\n",
    "    def __init__(self, value, x, y):\n",
    "        self.value = value\n",
    "        self.x = x\n",
    "        self.y = y"
   ],
   "metadata": {
    "collapsed": false,
    "ExecuteTime": {
     "start_time": "2023-04-18T18:34:03.418217Z",
     "end_time": "2023-04-18T18:34:03.470188Z"
    }
   }
  },
  {
   "cell_type": "markdown",
   "source": [
    "Hočem class, namesto integerja, zato da bom kasneje lažje preverjal med elementi matrike\n",
    "in tukaj mi dosti olajša da lahko primerjam reference namesto int vrednost:"
   ],
   "metadata": {
    "collapsed": false
   }
  },
  {
   "cell_type": "code",
   "execution_count": 28,
   "outputs": [
    {
     "name": "stdout",
     "output_type": "stream",
     "text": [
      "node_1 == node_2 = False\n",
      "stev_1 == stev_2 = True\n"
     ]
    }
   ],
   "source": [
    "# Primer z Node razredom\n",
    "node_1 = Node(value=3, x=1, y=1)\n",
    "node_2 = Node(value=3, x=1, y=1)\n",
    "print(f\"{node_1 == node_2 = }\")\n",
    "\n",
    "# Primer z integerji\n",
    "stev_1 = 3\n",
    "stev_2 = 3\n",
    "\n",
    "print(f\"{stev_1 == stev_2 = }\")"
   ],
   "metadata": {
    "collapsed": false,
    "ExecuteTime": {
     "start_time": "2023-04-18T18:34:03.425557Z",
     "end_time": "2023-04-18T18:34:03.492659Z"
    }
   }
  },
  {
   "cell_type": "markdown",
   "source": [
    "#### Path"
   ],
   "metadata": {
    "collapsed": false
   }
  },
  {
   "cell_type": "code",
   "execution_count": 29,
   "outputs": [],
   "source": [
    "class Path:\n",
    "    def __init__(self, edge, options, colored, values):\n",
    "        self.edge = edge\n",
    "        self.options = options\n",
    "        self.colored = colored\n",
    "        self.len = len(self.colored)\n",
    "        self.values = values"
   ],
   "metadata": {
    "collapsed": false,
    "ExecuteTime": {
     "start_time": "2023-04-18T18:34:03.450357Z",
     "end_time": "2023-04-18T18:34:03.492786Z"
    }
   }
  },
  {
   "cell_type": "markdown",
   "source": [
    "Ježeš kok argumentov in atributov v temle class-u!\n",
    "\n",
    "Sicer bi jih lahko poimenoval malo bolje, ampak načeloma pomenijo:"
   ],
   "metadata": {
    "collapsed": false
   }
  },
  {
   "cell_type": "markdown",
   "source": [
    "- **edge**: to so vsa polja v matriki, ki se držijo trenutno obarvanih polj (tista, ki nismo mogli obarvati, ker so druge barve). Imenovan je \"edge\" zato ker je \"rob\" obarvanega dela."
   ],
   "metadata": {
    "collapsed": false
   }
  },
  {
   "cell_type": "markdown",
   "source": [
    "- **options**: tukaj so shranjene vse barve (integerji), ki so v robu in so nam na voljo za naslednje barvanje (če imamo v \"robu\" samo barve 2, 3 in 5 bodo to tudi edine opcije, ki jh bomo imeli)"
   ],
   "metadata": {
    "collapsed": false
   }
  },
  {
   "cell_type": "markdown",
   "source": [
    "- **colored**: tukaj so vsi, ki sedijo zadaj na avtobusu - ne čak, tukaj so vsa polja, ki smo jih že obarvali in njih ne gledamo več. Ko so vsa polja v tem seznamu, vemo da smo obarvali vsa."
   ],
   "metadata": {
    "collapsed": false
   }
  },
  {
   "cell_type": "markdown",
   "source": [
    "- **len**: je število že obarvanih polj, tu ga posebej shranim da lahko lažje poti sortiram glede na to koliko polj so obarvala\n"
   ],
   "metadata": {
    "collapsed": false
   }
  },
  {
   "cell_type": "markdown",
   "source": [
    "- **values**:tukaj je dictionary z key-value pari s katerim beležim koliko je še različnih barv v nepobarvanem delu matrike.\n",
    "\n",
    "\n",
    "Dictionary je oblike {\"barva\": \"število nepobarvanih polj te barve\"} in če ima kakšna \"barva\" tukaj število polj 0 potem vem, da te barve ne bom več potreboval.\n",
    "\n",
    "\n",
    "To je (trenutno) končna optimizacija v programu, in deluje tako, da v trenutni poti ne išče več rešitve če je:\n",
    "**trenutni korak** + **število različnih barv še v matriki** >= **trenutno najboljši rešitvi**.\n",
    "\n",
    "\n",
    "Ta del najbolj pospeši izvajanje, in ker sproti med barvanjem posodabljam vrednosti v dictionary, mi ni treba vsakič preiskati celotne matrike, katere barve so mi še ostale.\n",
    "\n",
    "Ta del je zmanjšal 6x6 matrike iz dobre pol ure na manj kot desetinko sekunde, 10x10 matrike pa iz neskončno časa na par minut (sicer kakšne še zmeraj potrebujejo dalj kot pol ure)."
   ],
   "metadata": {
    "collapsed": false
   }
  },
  {
   "cell_type": "markdown",
   "source": [
    "# Glavni Class\n",
    "\n",
    "The King Enchilada, kokr pravjo, kle nas bo mal infarkt, ampak bom probu pokomentirat kaj kje dela in pol spodi dodam mal bol podrobno :)"
   ],
   "metadata": {
    "collapsed": false
   }
  },
  {
   "cell_type": "code",
   "execution_count": 30,
   "outputs": [],
   "source": [
    "import math  # To rabim za neskončnost\n",
    "\n",
    "\n",
    "class Solver:\n",
    "    def __init__(self, matrika, values):  # Podam mu matriko in values, ki so isti kot v Path classu\n",
    "        self.max_steps = math.inf  # trenutno najboljši rezultat shranjujem tukaj, začnem z neskončnostjo\n",
    "        self.matrika = matrika\n",
    "        self.size = len(matrika) * len(matrika[0])  # število elementov v matriki, da vem koliko jih rabim do konca\n",
    "        self.beep = 0  # Število vseh korakov od vseh poskusov, s tem sem testiral optimizacije\n",
    "        self.values = values  # values so pa isti valuesi kot v path classu\n",
    "\n",
    "    def solve(self, edge, colored, options, step, values):\n",
    "        \"\"\"\n",
    "        Rekurzivna funkcija, sprejme ista polja kot so v Path classu s to razliko da ima tudi trenutni korak.\n",
    "        \"\"\"\n",
    "        step += 1  # trenutni korak povečam\n",
    "        self.beep += 1  # beep prav tako haha\n",
    "\n",
    "        \"\"\"\n",
    "        TALE if spodaj, pospeši izvedbo programa iz astronomskega časa nazaj na gastronomski čas!!!\n",
    "        Če bi prej potrebovali do konca vesolja, zdej rabimo do konca ene pečene pice v povprečju!\n",
    "        \"\"\"\n",
    "        if step + self.count_values(values=values) >= self.max_steps:\n",
    "            # Potek sem opisal v Pathu ampak ja, če je korak + število različnih barv v nepobarvanem delu matrike večji ali enak najboljši rešitvi, prenehaj!\n",
    "            return\n",
    "\n",
    "        \"\"\"\n",
    "        Tale zakomentirani if je bil pa prvi poskus optimizacije, namesto vseh različnih barv v matriki gleda samo vse različne barve v robu.\n",
    "        Čas izvajanja je bil okoli 100x daljši pri 6x6 matriki, pri 10x10 se mi pa nikoli ni dalo čakati na konec... Sprobajte oba :)\n",
    "        \"\"\"\n",
    "        # if step + len(options) >= self.max_steps:\n",
    "        #     return\n",
    "\n",
    "        # Spodnji if konča izvajanje, če smo pobarvali celotno matriko, in če smo porabili manj korakov kot prej, jih določi za najboljši rezultat\n",
    "        if len(colored) == self.size:\n",
    "            if self.max_steps > step:\n",
    "                self.max_steps = step\n",
    "                # print(f\"\\n Current max step = {self.max_steps}\")\n",
    "            return\n",
    "\n",
    "        # Če nas zgornji if-i niso vrgli ven iz te funkcije pa iščemo naprej:\n",
    "        future_paths = []\n",
    "        for option in options:  # za vsako opcijo preiščemo koliko polj obarva in shranimo v class Path\n",
    "            new_edge, new_options, new_colored, new_values = self.dijsktra(edge=edge,\n",
    "                                                                           # Funkcija za barvanje polj se imenuje dijsktra\n",
    "                                                                           color=option,  # Ampak ni glih...\n",
    "                                                                           colored=colored,\n",
    "                                                                           # Jaz imam samo navado vse \"breadth-first-search-e\"\n",
    "                                                                           values=values)  # imenovati dijsktra- v glavnem...\n",
    "\n",
    "            path = Path(edge=new_edge, options=new_options, colored=new_colored,\n",
    "                        values=new_values)  # rezultate od dijsktre shranim v Path\n",
    "            future_paths.append(path)\n",
    "\n",
    "        future_paths.sort(key=lambda x: x.len,\n",
    "                          reverse=True)  # Sortiram po vrsti, da so tisti ki največ obarvajo na vrhu\n",
    "\n",
    "        # In loopyloop, ki rekurzivno kliče funkcijo v kateri se trenutno nahajamo.\n",
    "        for path in future_paths:\n",
    "            self.solve(edge=path.edge, options=path.options, colored=path.colored, step=step, values=path.values)\n",
    "\n",
    "        # To je ubistvu to, tale je bil glavni del rešitve!\n",
    "\n",
    "    def dijsktra(self, edge, color, colored, values):\n",
    "        \"\"\"\n",
    "        Dijsktra deluje tako da skopira pobarvana polja (colored), rob (edge) in values (values).\n",
    "        Nato se sprehodi čez vsa polja v robu in pregleda njegove sosede.\n",
    "        Polja doda v:\n",
    "        1. \"new_edge\" če so različne barve kot izbrana barva (argument: color)\n",
    "        2. \"colored\" če so iste barve kot izbrana barva, da se lahko sprehodi tudi čez njih\n",
    "\n",
    "        Sosede od polj po katerih se sprehaja pa doda v:\n",
    "        1. \"new_edge\" če so različne barve od izbrane\n",
    "        2. \"open_list\" če so iste, da se lahko čez njih tudi sprehodi in pogleda še njegove sosede\n",
    "\n",
    "        .\n",
    "        .\n",
    "        .\n",
    "        huh, sej mogoče pa je čist dijsktra :P\n",
    "        \"\"\"\n",
    "        colored = colored.copy()\n",
    "        open_list = edge.copy()\n",
    "        values = values.copy()\n",
    "        colour_options = []\n",
    "        new_edge = []\n",
    "        while len(open_list) > 0:\n",
    "            current_node = open_list.pop(0)\n",
    "            if current_node.value != color:\n",
    "                new_edge.append(current_node)\n",
    "                if current_node.value not in colour_options:\n",
    "                    colour_options.append(current_node.value)\n",
    "                continue\n",
    "\n",
    "            colored.append(current_node)\n",
    "            values[color] -= 1\n",
    "            cn_neighbours = self.get_neighbours(current_node, colored) # Funckija za prevert sosede\n",
    "            for neighbour in cn_neighbours:\n",
    "                if neighbour in open_list or neighbour in new_edge:\n",
    "                    continue\n",
    "                if neighbour.value == color:\n",
    "                    open_list.append(neighbour)\n",
    "                else:\n",
    "                    new_edge.append(neighbour)\n",
    "                    if neighbour.value not in colour_options:\n",
    "                        colour_options.append(neighbour.value)\n",
    "\n",
    "        return new_edge, colour_options, colored, values # vrne vse podatke, ki jih class Path in metoda solve() potrebujeta\n",
    "\n",
    "    def get_neighbours(self, current_node: Node, colored):\n",
    "        \"\"\"\n",
    "        V primerjavi z ostalimi, zelo enostavnejša metoda,\n",
    "        vzame trenutno polje in pobarvana polja (celotna matrika pa je itak shranjena v samem Solve classu)\n",
    "\n",
    "        Preveri gor, preveri dol, preveri levo in preveri desno in če polje obstaja in ni v pobarvanih ga dodaj na seznam veljavnih polj,\n",
    "        to pa na koncu vrni.\n",
    "        \"\"\"\n",
    "        valid_neighbours = []\n",
    "        if current_node.x > 0:\n",
    "            neighbour = self.matrika[current_node.y][current_node.x - 1]\n",
    "            if neighbour not in colored:\n",
    "                valid_neighbours.append(neighbour)\n",
    "        if current_node.x < len(self.matrika[0]) - 1:\n",
    "            neighbour = self.matrika[current_node.y][current_node.x + 1]\n",
    "            if neighbour not in colored:\n",
    "                valid_neighbours.append(neighbour)\n",
    "        if current_node.y > 0:\n",
    "            neighbour = self.matrika[current_node.y - 1][current_node.x]\n",
    "            if neighbour not in colored:\n",
    "                valid_neighbours.append(neighbour)\n",
    "        if current_node.y < len(self.matrika) - 1:\n",
    "            neighbour = self.matrika[current_node.y + 1][current_node.x]\n",
    "            if neighbour not in colored:\n",
    "                valid_neighbours.append(neighbour)\n",
    "        return valid_neighbours\n",
    "\n",
    "    def count_values(self, values):\n",
    "        \"\"\"\n",
    "        Kle samo preštejem število barv z neničelnim številom polj, to je uno za obtimizacijo.\n",
    "        \"\"\"\n",
    "        total = 0\n",
    "        for key in values:\n",
    "            if values[key] > 0:\n",
    "                total += 1\n",
    "        return total"
   ],
   "metadata": {
    "collapsed": false,
    "ExecuteTime": {
     "start_time": "2023-04-18T18:34:03.464000Z",
     "end_time": "2023-04-18T18:34:03.493845Z"
    }
   }
  },
  {
   "cell_type": "markdown",
   "source": [
    "#### Preživel smo :D\n",
    "V spodnji funkciji preberem datoteko z matriko in shranim število polj na barvo v \"values\""
   ],
   "metadata": {
    "collapsed": false
   }
  },
  {
   "cell_type": "code",
   "execution_count": 31,
   "outputs": [],
   "source": [
    "def read_input(filename):\n",
    "    matrika = []\n",
    "    values = {}\n",
    "    with open(filename) as f:\n",
    "        for y, line in enumerate(f.readlines()):\n",
    "            row = []\n",
    "            for x, value in enumerate(line.strip().split()):\n",
    "                row.append(Node(value, x, y))\n",
    "                if value not in values:\n",
    "                    values[value] = 1\n",
    "                else:\n",
    "                    values[value] += 1\n",
    "            matrika.append(row)\n",
    "    return matrika, values\n"
   ],
   "metadata": {
    "collapsed": false,
    "ExecuteTime": {
     "start_time": "2023-04-18T18:34:03.468632Z",
     "end_time": "2023-04-18T18:34:03.510241Z"
    }
   }
  },
  {
   "cell_type": "markdown",
   "source": [
    "#### Probimo če dela\n",
    "\n",
    "Najprej s 6x6 matrikami, te so shranjenje v mapi \"light\", z imeni 0.txt do 10.txt"
   ],
   "metadata": {
    "collapsed": false
   }
  },
  {
   "cell_type": "code",
   "execution_count": 32,
   "outputs": [],
   "source": [
    "import time # Dejmo še čas mert"
   ],
   "metadata": {
    "collapsed": false,
    "ExecuteTime": {
     "start_time": "2023-04-18T18:34:03.510350Z",
     "end_time": "2023-04-18T18:34:03.510499Z"
    }
   }
  },
  {
   "cell_type": "code",
   "execution_count": 33,
   "outputs": [
    {
     "name": "stdout",
     "output_type": "stream",
     "text": [
      "Matrika Light: 0, Rešitev: 3; Čas: 0.00018739700317382812\n",
      "Matrika Light: 1, Rešitev: 13; Čas: 0.002764463424682617\n",
      "Matrika Light: 2, Rešitev: 11; Čas: 0.0007746219635009766\n",
      "Matrika Light: 3, Rešitev: 12; Čas: 0.002373933792114258\n",
      "Matrika Light: 4, Rešitev: 11; Čas: 0.0011196136474609375\n",
      "Matrika Light: 5, Rešitev: 12; Čas: 0.0016138553619384766\n",
      "Matrika Light: 6, Rešitev: 11; Čas: 0.001100778579711914\n",
      "Matrika Light: 7, Rešitev: 15; Čas: 0.01175379753112793\n",
      "Matrika Light: 8, Rešitev: 12; Čas: 0.001895904541015625\n",
      "Matrika Light: 9, Rešitev: 13; Čas: 0.003589153289794922\n",
      "Matrika Light: 10, Rešitev: 14; Čas: 0.0065271854400634766\n"
     ]
    }
   ],
   "source": [
    "for i in range(11):\n",
    "    start = time.time()\n",
    "    # Naložimo podatke iz datoteke\n",
    "    matrika_light, values_light = read_input(f\"./light/{i}.txt\")\n",
    "\n",
    "    # Ustvarimo instanco Solver classa\n",
    "    solver = Solver(matrika=matrika_light, values=values_light)\n",
    "\n",
    "    # Pokličemo Solver.solve() metodo in gasa\n",
    "    solver.solve(edge=[solver.matrika[0][0]],\n",
    "                 colored=[],\n",
    "                 options=[solver.matrika[0][0].value],\n",
    "                 step=-2,\n",
    "                 values=values_light)\n",
    "    end = time.time()\n",
    "    print(f\"Matrika Light: {i}, Rešitev: {solver.max_steps}; Čas: {end - start}\")\n"
   ],
   "metadata": {
    "collapsed": false,
    "ExecuteTime": {
     "start_time": "2023-04-18T18:34:03.510443Z",
     "end_time": "2023-04-18T18:34:03.544219Z"
    }
   }
  },
  {
   "cell_type": "markdown",
   "source": [
    "#### 10x10 Matrike\n",
    "\n",
    "Bodte pozorni na razlike v času izvajanja, pa 10x10 matrika se ne zdi tok grozn večja od 6x6 :D"
   ],
   "metadata": {
    "collapsed": false
   }
  },
  {
   "cell_type": "code",
   "execution_count": 34,
   "outputs": [
    {
     "name": "stdout",
     "output_type": "stream",
     "text": [
      "Matrika Heavy: 0, Rešitev: 19; Čas: 82.18573689460754\n",
      "Matrika Heavy: 1, Rešitev: 20; Čas: 59.49056577682495\n",
      "Matrika Heavy: 2, Rešitev: 20; Čas: 48.59849143028259\n",
      "Matrika Heavy: 3, Rešitev: 20; Čas: 114.55723571777344\n",
      "Matrika Heavy: 4, Rešitev: 20; Čas: 133.46556448936462\n",
      "Matrika Heavy: 5, Rešitev: 19; Čas: 10.675184488296509\n",
      "Matrika Heavy: 6, Rešitev: 18; Čas: 38.48418045043945\n",
      "Matrika Heavy: 7, Rešitev: 19; Čas: 43.895134687423706\n"
     ]
    }
   ],
   "source": [
    "for i in range(8):\n",
    "    start = time.time()\n",
    "    matrika_heavy, values_heavy = read_input(f\"./heavy/{i}.txt\")\n",
    "\n",
    "    solver = Solver(matrika=matrika_heavy, values=values_heavy)\n",
    "    solver.solve(edge=[solver.matrika[0][0]],\n",
    "                 colored=[],\n",
    "                 options=[solver.matrika[0][0].value],\n",
    "                 step=-2,\n",
    "                 values=values_heavy)\n",
    "    end = time.time()\n",
    "    print(f\"Matrika Heavy: {i}, Rešitev: {solver.max_steps}; Čas: {end - start}\")"
   ],
   "metadata": {
    "collapsed": false,
    "ExecuteTime": {
     "start_time": "2023-04-18T18:34:03.528636Z",
     "end_time": "2023-04-18T18:42:54.922639Z"
    }
   }
  },
  {
   "cell_type": "markdown",
   "source": [
    "Smešni časi, dejansko lahko rešiš 10 ali 20 tisoč 6x6 matrik prej kot eno 10x10 matriko :)\n",
    "\n",
    "#### Če najdete kakšne izboljšave mi pa prosim javite! Hvala!"
   ],
   "metadata": {
    "collapsed": false
   }
  }
 ],
 "metadata": {
  "kernelspec": {
   "display_name": "Python 3",
   "language": "python",
   "name": "python3"
  },
  "language_info": {
   "codemirror_mode": {
    "name": "ipython",
    "version": 2
   },
   "file_extension": ".py",
   "mimetype": "text/x-python",
   "name": "python",
   "nbconvert_exporter": "python",
   "pygments_lexer": "ipython2",
   "version": "2.7.6"
  }
 },
 "nbformat": 4,
 "nbformat_minor": 0
}
