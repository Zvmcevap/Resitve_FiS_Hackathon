{
 "cells": [
  {
   "cell_type": "markdown",
   "source": [
    "#### Naložimo input\n",
    "Vsaka vrstica ima eno številko, to shranim kot int v seznam \"nas_input\""
   ],
   "metadata": {
    "collapsed": false
   }
  },
  {
   "cell_type": "code",
   "execution_count": 5,
   "outputs": [
    {
     "name": "stdout",
     "output_type": "stream",
     "text": [
      "[17, 33, 36, 5, 48, 3, 41, 40, 3, 44, 17, 39, 48, 42, 7, 11, 15, 9, 11, 11, 7, 10, 7, 12, 8, 14, 3, 47, 7, 17, 39, 11, 13, 11, 12, 9, 14, 9, 12, 8, 15, 15, 14, 12, 8, 11, 12, 13, 10, 10, 10, 15, 10, 14, 12, 15, 11, 12, 10, 15, 10, 12, 13, 11]\n"
     ]
    }
   ],
   "source": [
    "with open('input.txt') as f:\n",
    "    nas_input = [int(line.strip()) for line in f.readlines()]\n",
    "print(nas_input)"
   ],
   "metadata": {
    "collapsed": false,
    "ExecuteTime": {
     "start_time": "2023-04-18T12:24:41.945069Z",
     "end_time": "2023-04-18T12:24:41.955369Z"
    }
   }
  },
  {
   "cell_type": "markdown",
   "source": [
    "#### Funkcija za pretvarjanje iz poljubnega številskega sistema v desetiškega\n",
    "Vzela bo 2 argumenta:\n",
    "- int \"osnova\", ki bo služil kot osnova številskega sistema\n",
    "- int \"stevilo\", ki ga je treba pretvoriti iz osnove v desetiški sistem\n",
    "\n",
    "\"stevilo\" pretvorimo v string, da lahko izvlečemo posamezne števke ven (enice, desetice, stotice) in loop-amo čez njega v obratnem vrstnem redu,\n",
    "ker se indexi v stringu večajo ravno obratno, kot se večajo števke.\n",
    "\n",
    "V zanki vzamemo **stevko**, jo pretvorimo nazaj v int in pomnožimo z **osnovo** številskega sistema na potenco **i**.\n",
    "\n",
    "To prištejemo rešitvi in na koncu izvajanja zanke vrnemo rešitev."
   ],
   "metadata": {
    "collapsed": false
   }
  },
  {
   "cell_type": "code",
   "execution_count": 26,
   "outputs": [
    {
     "name": "stdout",
     "output_type": "stream",
     "text": [
      "123\n",
      "11\n",
      "128\n"
     ]
    }
   ],
   "source": [
    "def pretvori_v_decimalno_stevilo(osnova: int, stevilo: int):\n",
    "    stevilo_string = str(stevilo)  # Potrebujemo string da lahko izvlečemo vsako števko posebej\n",
    "    resitev = 0\n",
    "\n",
    "    for i, stevka in enumerate(reversed(stevilo_string)):\n",
    "        resitev += int(stevka) * osnova ** i\n",
    "    return resitev\n",
    "\n",
    "\n",
    "# Preverimo če deluje:\n",
    "print(pretvori_v_decimalno_stevilo(osnova=10, stevilo=123))\n",
    "print(pretvori_v_decimalno_stevilo(osnova=11, stevilo=10))\n",
    "print(pretvori_v_decimalno_stevilo(osnova=2, stevilo=10000000))"
   ],
   "metadata": {
    "collapsed": false,
    "ExecuteTime": {
     "start_time": "2023-04-18T12:47:21.642839Z",
     "end_time": "2023-04-18T12:47:21.644323Z"
    }
   }
  },
  {
   "cell_type": "markdown",
   "source": [
    "Izgleda, da deluje.\n",
    "\n",
    "#### Funkcijo uporabimo na celotnem inputu uganke\n",
    "\n",
    "V zanki gremo čez celoten seznam števil in rešitev, ki jo vrne uporabimo na naslednji iteraciji zanke.\n",
    "Začnemo z 10."
   ],
   "metadata": {
    "collapsed": false
   }
  },
  {
   "cell_type": "code",
   "execution_count": 29,
   "outputs": [
    {
     "name": "stdout",
     "output_type": "stream",
     "text": [
      "6151659991161830534059038956323208033\n"
     ]
    }
   ],
   "source": [
    "resitev = 10\n",
    "for input_osnova in nas_input:\n",
    "    resitev = pretvori_v_decimalno_stevilo(osnova=input_osnova, stevilo=resitev)"
   ],
   "metadata": {
    "collapsed": false,
    "ExecuteTime": {
     "start_time": "2023-04-18T12:50:12.378437Z",
     "end_time": "2023-04-18T12:50:12.395441Z"
    }
   }
  },
  {
   "cell_type": "markdown",
   "source": [
    "Badabing badaboom"
   ],
   "metadata": {
    "collapsed": false
   }
  },
  {
   "cell_type": "code",
   "execution_count": 31,
   "outputs": [
    {
     "name": "stdout",
     "output_type": "stream",
     "text": [
      "6151659991161830534059038956323208033\n"
     ]
    }
   ],
   "source": [
    "print(resitev)"
   ],
   "metadata": {
    "collapsed": false,
    "ExecuteTime": {
     "start_time": "2023-04-18T12:51:02.195467Z",
     "end_time": "2023-04-18T12:51:02.238354Z"
    }
   }
  }
 ],
 "metadata": {
  "kernelspec": {
   "display_name": "Python 3",
   "language": "python",
   "name": "python3"
  },
  "language_info": {
   "codemirror_mode": {
    "name": "ipython",
    "version": 2
   },
   "file_extension": ".py",
   "mimetype": "text/x-python",
   "name": "python",
   "nbconvert_exporter": "python",
   "pygments_lexer": "ipython2",
   "version": "2.7.6"
  }
 },
 "nbformat": 4,
 "nbformat_minor": 0
}
